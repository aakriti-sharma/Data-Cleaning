{
 "cells": [
  {
   "cell_type": "markdown",
   "id": "7349326c",
   "metadata": {},
   "source": [
    "# Data Cleaning of Movies Dataset using Python"
   ]
  },
  {
   "cell_type": "markdown",
   "id": "2404d662",
   "metadata": {},
   "source": [
    "Starting by importing all the libraries and reading the dataset."
   ]
  },
  {
   "cell_type": "code",
   "execution_count": 65,
   "id": "ec55fc68",
   "metadata": {},
   "outputs": [],
   "source": [
    "import pandas as pd\n",
    "import matplotlib.pyplot as plt\n",
    "import matplotlib.mlab as mlab\n",
    "import seaborn as sns\n",
    "import datetime\n",
    "import numpy as np"
   ]
  },
  {
   "cell_type": "code",
   "execution_count": 94,
   "id": "606e8151",
   "metadata": {},
   "outputs": [
    {
     "data": {
      "text/html": [
       "<div>\n",
       "<style scoped>\n",
       "    .dataframe tbody tr th:only-of-type {\n",
       "        vertical-align: middle;\n",
       "    }\n",
       "\n",
       "    .dataframe tbody tr th {\n",
       "        vertical-align: top;\n",
       "    }\n",
       "\n",
       "    .dataframe thead th {\n",
       "        text-align: right;\n",
       "    }\n",
       "</style>\n",
       "<table border=\"1\" class=\"dataframe\">\n",
       "  <thead>\n",
       "    <tr style=\"text-align: right;\">\n",
       "      <th></th>\n",
       "      <th>name</th>\n",
       "      <th>rating</th>\n",
       "      <th>genre</th>\n",
       "      <th>year</th>\n",
       "      <th>released</th>\n",
       "      <th>score</th>\n",
       "      <th>votes</th>\n",
       "      <th>director</th>\n",
       "      <th>writer</th>\n",
       "      <th>star</th>\n",
       "      <th>country</th>\n",
       "      <th>budget</th>\n",
       "      <th>gross</th>\n",
       "      <th>company</th>\n",
       "      <th>runtime</th>\n",
       "    </tr>\n",
       "  </thead>\n",
       "  <tbody>\n",
       "    <tr>\n",
       "      <th>0</th>\n",
       "      <td>The Shining</td>\n",
       "      <td>R</td>\n",
       "      <td>Drama</td>\n",
       "      <td>1980</td>\n",
       "      <td>June 13, 1980 (United States)</td>\n",
       "      <td>8.4</td>\n",
       "      <td>927000.0</td>\n",
       "      <td>Stanley Kubrick</td>\n",
       "      <td>Stephen King</td>\n",
       "      <td>Jack Nicholson</td>\n",
       "      <td>United Kingdom</td>\n",
       "      <td>19000000.0</td>\n",
       "      <td>46998772.0</td>\n",
       "      <td>Warner Bros.</td>\n",
       "      <td>146.0</td>\n",
       "    </tr>\n",
       "    <tr>\n",
       "      <th>1</th>\n",
       "      <td>The Blue Lagoon</td>\n",
       "      <td>R</td>\n",
       "      <td>Adventure</td>\n",
       "      <td>1980</td>\n",
       "      <td>July 2, 1980 (United States)</td>\n",
       "      <td>5.8</td>\n",
       "      <td>65000.0</td>\n",
       "      <td>Randal Kleiser</td>\n",
       "      <td>Henry De Vere Stacpoole</td>\n",
       "      <td>Brooke Shields</td>\n",
       "      <td>United States</td>\n",
       "      <td>4500000.0</td>\n",
       "      <td>58853106.0</td>\n",
       "      <td>Columbia Pictures</td>\n",
       "      <td>104.0</td>\n",
       "    </tr>\n",
       "    <tr>\n",
       "      <th>2</th>\n",
       "      <td>Star Wars: Episode V - The Empire Strikes Back</td>\n",
       "      <td>PG</td>\n",
       "      <td>Action</td>\n",
       "      <td>1980</td>\n",
       "      <td>June 20, 1980 (United States)</td>\n",
       "      <td>8.7</td>\n",
       "      <td>1200000.0</td>\n",
       "      <td>Irvin Kershner</td>\n",
       "      <td>Leigh Brackett</td>\n",
       "      <td>Mark Hamill</td>\n",
       "      <td>United States</td>\n",
       "      <td>18000000.0</td>\n",
       "      <td>538375067.0</td>\n",
       "      <td>Lucasfilm</td>\n",
       "      <td>124.0</td>\n",
       "    </tr>\n",
       "    <tr>\n",
       "      <th>3</th>\n",
       "      <td>Airplane!</td>\n",
       "      <td>PG</td>\n",
       "      <td>Comedy</td>\n",
       "      <td>1980</td>\n",
       "      <td>July 2, 1980 (United States)</td>\n",
       "      <td>7.7</td>\n",
       "      <td>221000.0</td>\n",
       "      <td>Jim Abrahams</td>\n",
       "      <td>Jim Abrahams</td>\n",
       "      <td>Robert Hays</td>\n",
       "      <td>United States</td>\n",
       "      <td>3500000.0</td>\n",
       "      <td>83453539.0</td>\n",
       "      <td>Paramount Pictures</td>\n",
       "      <td>88.0</td>\n",
       "    </tr>\n",
       "    <tr>\n",
       "      <th>4</th>\n",
       "      <td>Caddyshack</td>\n",
       "      <td>R</td>\n",
       "      <td>Comedy</td>\n",
       "      <td>1980</td>\n",
       "      <td>July 25, 1980 (United States)</td>\n",
       "      <td>7.3</td>\n",
       "      <td>108000.0</td>\n",
       "      <td>Harold Ramis</td>\n",
       "      <td>Brian Doyle-Murray</td>\n",
       "      <td>Chevy Chase</td>\n",
       "      <td>United States</td>\n",
       "      <td>6000000.0</td>\n",
       "      <td>39846344.0</td>\n",
       "      <td>Orion Pictures</td>\n",
       "      <td>98.0</td>\n",
       "    </tr>\n",
       "  </tbody>\n",
       "</table>\n",
       "</div>"
      ],
      "text/plain": [
       "                                             name rating      genre  year  \\\n",
       "0                                     The Shining      R      Drama  1980   \n",
       "1                                 The Blue Lagoon      R  Adventure  1980   \n",
       "2  Star Wars: Episode V - The Empire Strikes Back     PG     Action  1980   \n",
       "3                                       Airplane!     PG     Comedy  1980   \n",
       "4                                      Caddyshack      R     Comedy  1980   \n",
       "\n",
       "                        released  score      votes         director  \\\n",
       "0  June 13, 1980 (United States)    8.4   927000.0  Stanley Kubrick   \n",
       "1   July 2, 1980 (United States)    5.8    65000.0   Randal Kleiser   \n",
       "2  June 20, 1980 (United States)    8.7  1200000.0   Irvin Kershner   \n",
       "3   July 2, 1980 (United States)    7.7   221000.0     Jim Abrahams   \n",
       "4  July 25, 1980 (United States)    7.3   108000.0     Harold Ramis   \n",
       "\n",
       "                    writer            star         country      budget  \\\n",
       "0             Stephen King  Jack Nicholson  United Kingdom  19000000.0   \n",
       "1  Henry De Vere Stacpoole  Brooke Shields   United States   4500000.0   \n",
       "2           Leigh Brackett     Mark Hamill   United States  18000000.0   \n",
       "3             Jim Abrahams     Robert Hays   United States   3500000.0   \n",
       "4       Brian Doyle-Murray     Chevy Chase   United States   6000000.0   \n",
       "\n",
       "         gross             company  runtime  \n",
       "0   46998772.0        Warner Bros.    146.0  \n",
       "1   58853106.0   Columbia Pictures    104.0  \n",
       "2  538375067.0           Lucasfilm    124.0  \n",
       "3   83453539.0  Paramount Pictures     88.0  \n",
       "4   39846344.0      Orion Pictures     98.0  "
      ]
     },
     "execution_count": 94,
     "metadata": {},
     "output_type": "execute_result"
    }
   ],
   "source": [
    "df=pd.read_csv(r\"./movies.csv\")\n",
    "df.head()"
   ]
  },
  {
   "cell_type": "code",
   "execution_count": 95,
   "id": "e9b6df93",
   "metadata": {},
   "outputs": [
    {
     "data": {
      "text/plain": [
       "(7668, 15)"
      ]
     },
     "execution_count": 95,
     "metadata": {},
     "output_type": "execute_result"
    }
   ],
   "source": [
    "df.shape"
   ]
  },
  {
   "cell_type": "markdown",
   "id": "58cd42f6",
   "metadata": {},
   "source": [
    "Checking for incomplete data:"
   ]
  },
  {
   "cell_type": "code",
   "execution_count": 96,
   "id": "34ad2adf",
   "metadata": {},
   "outputs": [
    {
     "data": {
      "text/plain": [
       "name           0\n",
       "rating        77\n",
       "genre          0\n",
       "year           0\n",
       "released       2\n",
       "score          3\n",
       "votes          3\n",
       "director       0\n",
       "writer         3\n",
       "star           1\n",
       "country        3\n",
       "budget      2171\n",
       "gross        189\n",
       "company       17\n",
       "runtime        4\n",
       "dtype: int64"
      ]
     },
     "execution_count": 96,
     "metadata": {},
     "output_type": "execute_result"
    }
   ],
   "source": [
    "df.isna().sum()"
   ]
  },
  {
   "cell_type": "markdown",
   "id": "e22cf6ce",
   "metadata": {},
   "source": [
    "Handling the mising values with dropping the column with >30% missing values and then dropping the rest of the rows with missing values ( very few ,~200 )"
   ]
  },
  {
   "cell_type": "code",
   "execution_count": 97,
   "id": "f3fe61a7",
   "metadata": {},
   "outputs": [
    {
     "data": {
      "text/plain": [
       "(7412, 14)"
      ]
     },
     "execution_count": 97,
     "metadata": {},
     "output_type": "execute_result"
    }
   ],
   "source": [
    "df=df.drop('budget',axis=1)\n",
    "df=df.dropna()\n",
    "df.shape"
   ]
  },
  {
   "cell_type": "code",
   "execution_count": 98,
   "id": "a441846b",
   "metadata": {},
   "outputs": [
    {
     "data": {
      "text/plain": [
       "name         object\n",
       "rating       object\n",
       "genre        object\n",
       "year          int64\n",
       "released     object\n",
       "score       float64\n",
       "votes       float64\n",
       "director     object\n",
       "writer       object\n",
       "star         object\n",
       "country      object\n",
       "gross       float64\n",
       "company      object\n",
       "runtime     float64\n",
       "dtype: object"
      ]
     },
     "execution_count": 98,
     "metadata": {},
     "output_type": "execute_result"
    }
   ],
   "source": [
    "df.dtypes"
   ]
  },
  {
   "cell_type": "markdown",
   "id": "5a4e7221",
   "metadata": {},
   "source": [
    "votes, gross, runtime need not have the descending zero after decimal so let's change them to integers."
   ]
  },
  {
   "cell_type": "code",
   "execution_count": 99,
   "id": "8e7fc875",
   "metadata": {},
   "outputs": [],
   "source": [
    "df[['votes', 'gross','runtime']]=df[['votes', 'gross','runtime']].astype(\"int64\")"
   ]
  },
  {
   "cell_type": "markdown",
   "id": "ec0c4248",
   "metadata": {},
   "source": [
    "Column released has grouped information like the country where the movie was released and on which date, this makes the column of type object and we are not able to utilise the date features. To change this we perform string manipulation and extract the date from the column."
   ]
  },
  {
   "cell_type": "code",
   "execution_count": 100,
   "id": "1fd03fa3",
   "metadata": {},
   "outputs": [
    {
     "name": "stderr",
     "output_type": "stream",
     "text": [
      "c:\\users\\hp\\appdata\\local\\programs\\python\\python39\\lib\\site-packages\\pandas\\core\\indexing.py:1637: SettingWithCopyWarning: \n",
      "A value is trying to be set on a copy of a slice from a DataFrame\n",
      "\n",
      "See the caveats in the documentation: https://pandas.pydata.org/pandas-docs/stable/user_guide/indexing.html#returning-a-view-versus-a-copy\n",
      "  self._setitem_single_block(indexer, value, name)\n"
     ]
    }
   ],
   "source": [
    "mon={\"January\":1,\"February\":2,\"March\":3,\"April\":4,\"May\":5,\"June\":6,\"July\":7,\"August\":8,\"September\":9,\"October\":10,\"November\":11,\"December\":12}\n",
    "for i in range(df.shape[0]):\n",
    "    df['released'].iloc[i]=df['released'].iloc[i][:df['released'].iloc[i].index(\"(\")]  #removing the country\n",
    "    y=df['released'].iloc[i].split(\", \")[-1]\n",
    "    m=df['released'].iloc[i].split(\" \")[0]\n",
    "    if m in mon.keys():\n",
    "        m=\"0\"+str(mon[m])\n",
    "    else:\n",
    "        m=1\n",
    "    d=df['released'].iloc[i].split(\" \")[1].replace(\",\",\"\")\n",
    "    df['released'].iloc[i]=str(m)+\"-\"+str(d)+\"-\"+str(y)\n"
   ]
  },
  {
   "cell_type": "code",
   "execution_count": 101,
   "id": "c2f3f8cd",
   "metadata": {},
   "outputs": [
    {
     "data": {
      "text/plain": [
       "name         object\n",
       "rating       object\n",
       "genre        object\n",
       "year          int64\n",
       "released     object\n",
       "score       float64\n",
       "votes         int64\n",
       "director     object\n",
       "writer       object\n",
       "star         object\n",
       "country      object\n",
       "gross         int64\n",
       "company      object\n",
       "runtime       int64\n",
       "dtype: object"
      ]
     },
     "execution_count": 101,
     "metadata": {},
     "output_type": "execute_result"
    }
   ],
   "source": [
    "df.dtypes"
   ]
  },
  {
   "cell_type": "markdown",
   "id": "3a2d9871",
   "metadata": {},
   "source": [
    "Let's drop any duplicate values that might be present in the dataset that are redundant."
   ]
  },
  {
   "cell_type": "code",
   "execution_count": 102,
   "id": "b8697543",
   "metadata": {},
   "outputs": [
    {
     "data": {
      "text/plain": [
       "(7412, 14)"
      ]
     },
     "execution_count": 102,
     "metadata": {},
     "output_type": "execute_result"
    }
   ],
   "source": [
    "df=df.drop_duplicates()\n",
    "df.shape"
   ]
  },
  {
   "cell_type": "markdown",
   "id": "0845a3e8",
   "metadata": {},
   "source": [
    "Looks like there weren't any, we are good to go!"
   ]
  },
  {
   "cell_type": "markdown",
   "id": "472cd854",
   "metadata": {},
   "source": [
    "Columns with entry in free text form, tend to have a lot of inconsistent entries. Let's rectify that."
   ]
  },
  {
   "cell_type": "code",
   "execution_count": null,
   "id": "2e5497ae",
   "metadata": {},
   "outputs": [],
   "source": [
    "pd.set_option('display.max_rows',None)"
   ]
  },
  {
   "cell_type": "code",
   "execution_count": null,
   "id": "fa32665f",
   "metadata": {},
   "outputs": [],
   "source": [
    "len(df.company.unique())"
   ]
  },
  {
   "cell_type": "code",
   "execution_count": null,
   "id": "d1aa22dc",
   "metadata": {},
   "outputs": [],
   "source": [
    "df.company.drop_duplicates().sort_values(ascending=True)"
   ]
  },
  {
   "cell_type": "markdown",
   "id": "d7aab5dc",
   "metadata": {},
   "source": [
    "Most of the popular franchises are mentioned under multiple names like Marvel Enterprises, Marvel Entertainment, Marvel Studios which fall under the same entity. Let's solve that."
   ]
  },
  {
   "cell_type": "code",
   "execution_count": null,
   "id": "f725dbb4",
   "metadata": {},
   "outputs": [],
   "source": [
    "for i in range(df.shape[0]):\n",
    "    df['company'].iloc[i]=df['company'].iloc[i].split(\" \")[0]   "
   ]
  },
  {
   "cell_type": "code",
   "execution_count": null,
   "id": "05f898b8",
   "metadata": {},
   "outputs": [],
   "source": [
    "len(df.company.unique())"
   ]
  },
  {
   "cell_type": "markdown",
   "id": "04d06cff",
   "metadata": {},
   "source": [
    "We were able to reduce the categories to 1811 from 2242."
   ]
  }
 ],
 "metadata": {
  "kernelspec": {
   "display_name": "Python 3 (ipykernel)",
   "language": "python",
   "name": "python3"
  },
  "language_info": {
   "codemirror_mode": {
    "name": "ipython",
    "version": 3
   },
   "file_extension": ".py",
   "mimetype": "text/x-python",
   "name": "python",
   "nbconvert_exporter": "python",
   "pygments_lexer": "ipython3",
   "version": "3.9.0"
  }
 },
 "nbformat": 4,
 "nbformat_minor": 5
}
